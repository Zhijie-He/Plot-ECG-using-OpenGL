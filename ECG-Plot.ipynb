{
 "cells": [
  {
   "cell_type": "markdown",
   "metadata": {},
   "source": [
    "### Import libraries"
   ]
  },
  {
   "cell_type": "code",
   "execution_count": 1,
   "metadata": {},
   "outputs": [],
   "source": [
    "from OpenGL.GL import *\n",
    "from OpenGL.GLU import *\n",
    "from OpenGL.GLUT import *\n",
    "import numpy as np\n",
    "import sys\n",
    "import time\n",
    "import math\n",
    "import pylab as pl\n",
    "# load the dataset\n",
    "from biosppy import storage"
   ]
  },
  {
   "cell_type": "markdown",
   "metadata": {},
   "source": [
    "### Initializing settings"
   ]
  },
  {
   "cell_type": "code",
   "execution_count": 2,
   "metadata": {},
   "outputs": [],
   "source": [
    "# Some api in the chain is translating the keystrokes to this binary string\n",
    "# so instead of saying: ESCAPE = 27, we use the following.\n",
    "ESCAPE = b'\\x1b'\n",
    "\n",
    "# Number of the glut window.\n",
    "window = 0\n",
    "\n",
    "def init():\n",
    "    glEnable(GL_POINT_SMOOTH) # 1.1 enable GL to draw points with proper filtering, i.e., draw anti-aliased points, which looks more smooth.\n",
    "    glEnable(GL_LINE_SMOOTH)  # 1.2 enable GL to draw lines with proper filtering, i.e., draw anti-aliased lines\n",
    "    glEnable(GL_BLEND)        # 1.3 enable GL to draw piexls using  a function that blends the incoming (source) values with the values that are already in the color buffer (the destination values)\n",
    "    glBlendFunc(GL_SRC_ALPHA, GL_ONE_MINUS_SRC_ALPHA) # 1.4 glBlendFunc defines the operation of blending\n",
    "    glClearColor(1.0, 1.0, 1.0, 1.0) # 2.1\n",
    "    gluOrtho2D(-5.0, 5.0, -5.0, 5.0) # 2.2"
   ]
  },
  {
   "cell_type": "markdown",
   "metadata": {},
   "source": [
    "### Core Function"
   ]
  },
  {
   "cell_type": "markdown",
   "metadata": {},
   "source": [
    "Square grid with inter line space of δx = δy = 1."
   ]
  },
  {
   "cell_type": "code",
   "execution_count": 3,
   "metadata": {},
   "outputs": [],
   "source": [
    "def func_square_grid(center, width, radio=1):\n",
    "    # according to center and width find the bottom left point\n",
    "    x1 = center[0]-width/2\n",
    "    y1 = center[1]-width/2\n",
    "    \n",
    "    vertices = []\n",
    "    # calculate the point lie in horizen line\n",
    "    x_interval = np.arange(x1,x1+width+1/radio,1/radio)\n",
    "    for i in x_interval:\n",
    "        vertices.append([i,y1])\n",
    "        vertices.append([i,y1+width])\n",
    "        \n",
    "    # calculate the point lie in vertical line \n",
    "    y_interval = np.arange(y1,y1+width+1/radio,1/radio)\n",
    "    for i in y_interval:\n",
    "        vertices.append([x1,i])\n",
    "        vertices.append([x1+width,i])\n",
    "        \n",
    "    return np.array(vertices)"
   ]
  },
  {
   "cell_type": "markdown",
   "metadata": {},
   "source": [
    "Get the signal"
   ]
  },
  {
   "cell_type": "code",
   "execution_count": 4,
   "metadata": {},
   "outputs": [],
   "source": [
    "def get_signal(T,second=False):\n",
    "    # if second is False, return all of the data corresponding to the T\n",
    "    # if second is True, return only one second of the signal according to the T\n",
    "    \n",
    "    #Load the data\n",
    "    signal, mdata = storage.load_txt('ecg.txt')\n",
    "    # get Sampling Rate\n",
    "    Fs = mdata['sampling_rate'] \n",
    "    # the calculation relationship between N and T \n",
    "        #N = len(signal)  # number of samples\n",
    "        #T = (N - 1) / Fs  # duration \n",
    "    # Get Total Time of the signal\n",
    "    Total_duration = (len(signal) - 1) / Fs\n",
    "    # create a circular buffer to make sure the graph can be drawed from the beginning\n",
    "    T = T % Total_duration\n",
    "    \n",
    "    # set the duration\n",
    "    if second:\n",
    "        # Due to at the beginning, the T is smaller than 1, so we need to discuss\n",
    "        if T < 1:\n",
    "            # return the data between 0-T\n",
    "            Signal_second = signal[0:int(T*Fs+1)]\n",
    "        else:\n",
    "            # return the data between (T-1) - T  which length is 1\n",
    "            Signal_second = signal[int((T-1)*Fs+1):int(T*Fs+1)]\n",
    "            \n",
    "        # Get the number of signal\n",
    "        N = len(Signal_second)\n",
    "        ts = np.linspace(0, 1, N, endpoint=False)\n",
    "    else:\n",
    "        # return the data between 0-T\n",
    "        Signal_second = signal[0:int(T*Fs+1)]\n",
    "        N = len(Signal_second)\n",
    "        ts = np.linspace(0, T, N, endpoint=False)  # relative timestamps\n",
    "    \n",
    "    ts = ts - 5 # move the graph to left\n",
    "    \n",
    "    # Scale the raw data\n",
    "    # (Signal_second-2047)*0.01 according to the assignment requirements\n",
    "    # 2/5 according to the relationship between x-axis and y-axis of the real ECG image.\n",
    "    Signal_second = (Signal_second-2047)*0.01*(2/5) # 2/5 due to the relationship between x-axis and y-axis\n",
    "    \n",
    "    vertices = list(zip(ts, Signal_second))\n",
    "    return np.array(vertices)"
   ]
  },
  {
   "cell_type": "markdown",
   "metadata": {},
   "source": [
    "### Plot the ECG image"
   ]
  },
  {
   "cell_type": "code",
   "execution_count": 5,
   "metadata": {},
   "outputs": [],
   "source": [
    "T = 0\n",
    "step = 0.05\n",
    "def plot_func():\n",
    "    global T\n",
    "    # Commands # 3\n",
    "    glClear(GL_COLOR_BUFFER_BIT) # 3.1\n",
    "    glColor3f(0.0, 0.0, 0.0)     # 3.2 set the current color as black\n",
    "    glPointSize(3.0)             # 3.3 set the point size as 3\n",
    "    glLineWidth(1.0)             # 3.4 set the line width as 1\n",
    "    \n",
    "    # Commands # 4 draw the coordinate system\n",
    "    glBegin(GL_LINES) \n",
    "    glColor3f(0,0,1)\n",
    "    glVertex2f(-5.0, 0.0) # Specifies a vertex.\n",
    "    glVertex2f(5.0, 0.0) \n",
    "    glVertex2f(0.0, 5.0)\n",
    "    glVertex2f(0.0, -5.0)\n",
    "    \n",
    "    glEnd() # The glBegin and glend functions delimit the vertices of a primitive or a group of like primitives.\n",
    "\n",
    "    # Set points to plot graphic\n",
    "    # the radio between light_grid and bold_grid is calculated by the real ECG image\n",
    "    light_grid = func_square_grid(center=[0,0],width = 10, radio = 25)\n",
    "    bold_grid = func_square_grid(center=[0,0],width = 10, radio = 5)\n",
    "    \n",
    "    # get signal data\n",
    "    signal_vertices = get_signal(T,second=False)\n",
    "    signal_second_vertices = get_signal(T,second=True)\n",
    "    \n",
    "    # I.A.4 Draw a square gird\n",
    "    for i in np.arange(0, len(light_grid), 2): \n",
    "        glBegin(GL_LINES)\n",
    "        glColor3f(1,0.71,0.75) # Sets the current color RGB\n",
    "        glVertex2f(light_grid[i,0],light_grid[i,1])\n",
    "        glVertex2f(light_grid[i+1,0],light_grid[i+1,1])\n",
    "        glEnd()\n",
    "        \n",
    "    for i in np.arange(0, len(bold_grid), 2): \n",
    "        glLineWidth(1.5)\n",
    "        glBegin(GL_LINES)\n",
    "        glColor3f(1,0.1,0.1) # Sets the current color RGB\n",
    "        glVertex2f(bold_grid[i,0],bold_grid[i,1])\n",
    "        glVertex2f(bold_grid[i+1,0],bold_grid[i+1,1])\n",
    "        glEnd()\n",
    "        \n",
    "    # I.B draw the signal\n",
    "    for i in range(len(signal_vertices)-1): \n",
    "        glLineWidth(1.0)\n",
    "        glBegin(GL_LINES)\n",
    "        glColor3f(0,0,0) # Sets the current color RGB\n",
    "        glVertex2f(signal_vertices[i,0],signal_vertices[i,1])\n",
    "        glVertex2f(signal_vertices[i+1,0],signal_vertices[i+1,1])\n",
    "        glEnd()\n",
    "        \n",
    "        \n",
    "    # I.B draw only one second of  the signal\n",
    "    for i in range(len(signal_second_vertices)-1): \n",
    "        glLineWidth(1.0)\n",
    "        glBegin(GL_LINES)\n",
    "        glColor3f(0,0,0) # Sets the current color RGB\n",
    "        glVertex2f(signal_second_vertices[i,0]+3,signal_second_vertices[i,1]+3) # +3 move the graph to specified location\n",
    "        glVertex2f(signal_second_vertices[i+1,0]+3,signal_second_vertices[i+1,1]+3)\n",
    "        glEnd()\n",
    "    \n",
    "    # This is the core variable to implement dynamic ECG\n",
    "    T = T + step\n",
    "    glutSwapBuffers()"
   ]
  },
  {
   "cell_type": "markdown",
   "metadata": {},
   "source": [
    "Function that checks if a key has been pressed on the keyboard"
   ]
  },
  {
   "cell_type": "code",
   "execution_count": 6,
   "metadata": {},
   "outputs": [],
   "source": [
    "# The function called whenever a key is pressed. Note the use of Python tuples to pass in: (key, x, y)  \n",
    "def keyPressed(*args):\n",
    "    print(args[0])\n",
    "    # If escape is pressed, kill everything.\n",
    "    if args[0]==ESCAPE:\n",
    "        glutDestroyWindow(window)\n",
    "        sys.exit(0)"
   ]
  },
  {
   "cell_type": "markdown",
   "metadata": {},
   "source": [
    "Main function with initialization, drawing and querying for external inputs (keyboard)"
   ]
  },
  {
   "cell_type": "code",
   "execution_count": 7,
   "metadata": {},
   "outputs": [],
   "source": [
    "def main():\n",
    "    global window\n",
    "    glutInit(()) #   glutInit is used to initialize the GLUT library.\n",
    "    glutInitDisplayMode(GLUT_SINGLE|GLUT_RGB) #  glutInitDisplayMode sets the initial display mode.\n",
    "    glutInitWindowPosition(50,50)\n",
    "    glutInitWindowSize(500,500)# glutInitWindowPosition and glutInitWindowSize set the initial window position and size respectively.\n",
    "    glutCreateWindow(b\"ECG Plot\") #   glutCreateWindow creates a top-level window.\n",
    "    glutDisplayFunc(plot_func)# glutDisplayFunc sets the display callback for the current window. func The new display callback function.\n",
    "   \n",
    "    # When we are doing nothing, redraw the scene.\n",
    "    glutIdleFunc(plot_func)#  glutIdleFunc sets the global idle callback.\n",
    "    \n",
    "    # Register the function called when the keyboard is pressed.  \n",
    "    glutKeyboardFunc(keyPressed)#  glutKeyboardFunc sets the keyboard callback for the current window.\n",
    "    # Initialization\n",
    "    init()\n",
    "    \n",
    "    # Main drawing loop\n",
    "    glutMainLoop() # enters the GLUT event processing loop."
   ]
  },
  {
   "cell_type": "markdown",
   "metadata": {},
   "source": [
    "Executing main function"
   ]
  },
  {
   "cell_type": "code",
   "execution_count": null,
   "metadata": {},
   "outputs": [
    {
     "name": "stdout",
     "output_type": "stream",
     "text": [
      "Hit ESC key to quit.\n"
     ]
    }
   ],
   "source": [
    "# Print message to console, and kick off the main to get it rolling.\n",
    "print(\"Hit ESC key to quit.\")\n",
    "main()"
   ]
  }
 ],
 "metadata": {
  "anaconda-cloud": {},
  "kernelspec": {
   "display_name": "Python 3",
   "language": "python",
   "name": "python3"
  },
  "language_info": {
   "codemirror_mode": {
    "name": "ipython",
    "version": 3
   },
   "file_extension": ".py",
   "mimetype": "text/x-python",
   "name": "python",
   "nbconvert_exporter": "python",
   "pygments_lexer": "ipython3",
   "version": "3.8.5"
  },
  "toc": {
   "colors": {
    "hover_highlight": "#DAA520",
    "running_highlight": "#FF0000",
    "selected_highlight": "#FFD700"
   },
   "moveMenuLeft": true,
   "nav_menu": {
    "height": "12px",
    "width": "252px"
   },
   "navigate_menu": true,
   "number_sections": true,
   "sideBar": true,
   "threshold": 4,
   "toc_cell": false,
   "toc_section_display": "block",
   "toc_window_display": false,
   "widenNotebook": false
  }
 },
 "nbformat": 4,
 "nbformat_minor": 1
}
